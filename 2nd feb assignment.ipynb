{
 "cells": [
  {
   "cell_type": "code",
   "execution_count": null,
   "id": "0d45ed16-873e-4179-80bb-6ba77576ccd4",
   "metadata": {},
   "outputs": [],
   "source": [
    "Q1"
   ]
  },
  {
   "cell_type": "code",
   "execution_count": null,
   "id": "fdf6ed10-7497-425b-aa4f-6c314be95659",
   "metadata": {},
   "outputs": [],
   "source": [
    "#for loop\n",
    "\n",
    "It is used to repeat a specific block of code a known number of times."
   ]
  },
  {
   "cell_type": "code",
   "execution_count": 1,
   "id": "3c7f86e0-4e1b-43ff-ab01-751d89a48714",
   "metadata": {},
   "outputs": [],
   "source": [
    "#example of for loop\n",
    "\n",
    "l=[1,2,3,4,5]"
   ]
  },
  {
   "cell_type": "code",
   "execution_count": null,
   "id": "8cad23a4-f6c0-452f-9641-901b1f3cd79f",
   "metadata": {},
   "outputs": [],
   "source": [
    "for i in l:\n",
    "    print(i)"
   ]
  },
  {
   "cell_type": "code",
   "execution_count": null,
   "id": "2f8c6be9-296a-4070-9133-7547693f8d96",
   "metadata": {},
   "outputs": [],
   "source": [
    "#while loop\n",
    "\n",
    "it is used to repeat a speicific block of code an unknown number of times, until a condition is true."
   ]
  },
  {
   "cell_type": "code",
   "execution_count": null,
   "id": "62a88877-c259-4649-9348-3e812536670c",
   "metadata": {},
   "outputs": [],
   "source": [
    "#example of while loop\n",
    "\n",
    "a = 1\n",
    "while a <= 10 :\n",
    "    print(a)\n",
    "    a = a + 1"
   ]
  },
  {
   "cell_type": "code",
   "execution_count": null,
   "id": "00c146e5-f729-490f-a017-8154ccd87510",
   "metadata": {},
   "outputs": [],
   "source": [
    "Q2"
   ]
  },
  {
   "cell_type": "code",
   "execution_count": null,
   "id": "96791930-5182-4966-be9b-b4cd63ba4852",
   "metadata": {},
   "outputs": [],
   "source": [
    "#using for loop\n",
    "\n",
    "num=range(1,11)\n",
    "sum=0\n",
    "product=1\n",
    "for i in num:\n",
    "    sum=sum+i\n",
    "    product=product*i\n",
    "    print('sum:',sum)\n",
    "    print('product:',product)"
   ]
  },
  {
   "cell_type": "code",
   "execution_count": null,
   "id": "1bc1312d-8b1d-436c-b53e-617d0ae58886",
   "metadata": {},
   "outputs": [],
   "source": [
    "#using while loop\n",
    "\n",
    "num=range(1,11)\n",
    "sum=0\n",
    "product=1\n",
    "i=0\n",
    "while i<len(num):\n",
    "    sum=sum+num[i]\n",
    "    product=product*num[i]\n",
    "    i=i+1\n",
    "    print('sum:',sum)\n",
    "    print('product:',product)"
   ]
  },
  {
   "cell_type": "code",
   "execution_count": null,
   "id": "451b907e-68b3-4529-af82-7ffb610d6837",
   "metadata": {},
   "outputs": [],
   "source": [
    "Q3"
   ]
  },
  {
   "cell_type": "code",
   "execution_count": null,
   "id": "8a74aa94-2fba-4a29-88a9-359e84da2a72",
   "metadata": {},
   "outputs": [],
   "source": [
    "ele_consumed=int(input('enter your electricity units'))\n",
    "if ele_consumed<=100:\n",
    "    print('your electricity bill is:',ele_consumed*4.5)\n",
    "elif ele_consumed>=101 and ele_consumed<=200:\n",
    "    print('your electricity bill is:',100*4.5+(ele_consumed-100)*6)\n",
    "elif ele_consumed>=201 and ele_consumed<=300:\n",
    "    print('your electricity bill is:',100*4.5+100*6+(ele_consumed-200)*10)\n",
    "else :\n",
    "    print('your electricity bill is:',100*4.5+100*6+100*10+(ele_consumed-300)*20)\n",
    "    "
   ]
  },
  {
   "cell_type": "code",
   "execution_count": null,
   "id": "86653457-af57-4087-8466-89869daadeef",
   "metadata": {},
   "outputs": [],
   "source": [
    "Q4"
   ]
  },
  {
   "cell_type": "code",
   "execution_count": null,
   "id": "7f08c7a9-7adc-44db-96b6-ea25be078603",
   "metadata": {},
   "outputs": [],
   "source": [
    "#using for loop\n",
    "\n",
    "a=list(range(1,101))\n",
    "b=[]\n",
    "for i in a:\n",
    "    cube=i**3\n",
    "    if cube%5==0 or cube%4==0:\n",
    "        b.append(cube)\n",
    "print(b)"
   ]
  },
  {
   "cell_type": "code",
   "execution_count": null,
   "id": "0d2e3a4a-dcb6-434c-84f7-7fe023101c7b",
   "metadata": {},
   "outputs": [],
   "source": [
    "#using while loop\n",
    "\n",
    "l=list(range(1,101))\n",
    "l1=[]\n",
    "i=0\n",
    "while i<len(l):\n",
    "    cube=l[i]**3\n",
    "    if cube%5==0 or cube%4==0:\n",
    "        l1.append(cube)\n",
    "        i=i+1\n",
    "print(l1)        "
   ]
  },
  {
   "cell_type": "code",
   "execution_count": null,
   "id": "e463461d-5ee3-4b35-89ee-6c1e16175803",
   "metadata": {},
   "outputs": [],
   "source": [
    "Q5"
   ]
  },
  {
   "cell_type": "code",
   "execution_count": 3,
   "id": "10a75852-2f05-473f-9a3d-cab15c10bc91",
   "metadata": {},
   "outputs": [],
   "source": [
    "string='I want to become a data scientist'\n",
    "v=('a','e','i','o','u')"
   ]
  },
  {
   "cell_type": "code",
   "execution_count": 4,
   "id": "efb64b04-3d5d-45bd-9299-580a232f12f2",
   "metadata": {},
   "outputs": [
    {
     "data": {
      "text/plain": [
       "['a', 'o', 'e', 'o', 'e', 'a', 'a', 'a', 'i', 'e', 'i']"
      ]
     },
     "execution_count": 4,
     "metadata": {},
     "output_type": "execute_result"
    }
   ],
   "source": [
    "def vowel(i):\n",
    "    return i in v\n",
    "list(filter(vowel,string))"
   ]
  },
  {
   "cell_type": "code",
   "execution_count": null,
   "id": "486f18a3-d49a-444d-952a-dc347a52e0e5",
   "metadata": {},
   "outputs": [],
   "source": []
  }
 ],
 "metadata": {
  "kernelspec": {
   "display_name": "Python 3 (ipykernel)",
   "language": "python",
   "name": "python3"
  },
  "language_info": {
   "codemirror_mode": {
    "name": "ipython",
    "version": 3
   },
   "file_extension": ".py",
   "mimetype": "text/x-python",
   "name": "python",
   "nbconvert_exporter": "python",
   "pygments_lexer": "ipython3",
   "version": "3.10.8"
  }
 },
 "nbformat": 4,
 "nbformat_minor": 5
}
